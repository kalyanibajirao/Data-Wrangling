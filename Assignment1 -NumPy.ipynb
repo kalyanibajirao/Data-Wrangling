{
 "cells": [
  {
   "cell_type": "code",
   "execution_count": null,
   "id": "e1259528",
   "metadata": {},
   "outputs": [],
   "source": [
    "1. Create a null vector of size 10 but the fifth value which is 1."
   ]
  },
  {
   "cell_type": "code",
   "execution_count": 1,
   "id": "33a59cb1",
   "metadata": {},
   "outputs": [
    {
     "name": "stdout",
     "output_type": "stream",
     "text": [
      "[0 0 0 0 1 0 0 0 0 0]\n"
     ]
    }
   ],
   "source": [
    "import numpy as np\n",
    "\n",
    "\n",
    "arr = np.zeros(10,dtype = int)\n",
    "arr[4] = 1\n",
    "\n",
    "print(arr)"
   ]
  },
  {
   "cell_type": "code",
   "execution_count": null,
   "id": "46197f9e",
   "metadata": {},
   "outputs": [],
   "source": [
    "2. Create a vector with values ranging from 10 to 49."
   ]
  },
  {
   "cell_type": "code",
   "execution_count": 2,
   "id": "7b4161c2",
   "metadata": {},
   "outputs": [
    {
     "data": {
      "text/plain": [
       "array([10, 11, 12, 13, 14, 15, 16, 17, 18, 19, 20, 21, 22, 23, 24, 25, 26,\n",
       "       27, 28, 29, 30, 31, 32, 33, 34, 35, 36, 37, 38, 39, 40, 41, 42, 43,\n",
       "       44, 45, 46, 47, 48, 49])"
      ]
     },
     "execution_count": 2,
     "metadata": {},
     "output_type": "execute_result"
    }
   ],
   "source": [
    "array_1 = np.arange(10,50)\n",
    "\n",
    "array_1"
   ]
  },
  {
   "cell_type": "code",
   "execution_count": null,
   "id": "f97e7c40",
   "metadata": {},
   "outputs": [],
   "source": [
    "3. Create a 3x3 matrix with values ranging from 0 to 8"
   ]
  },
  {
   "cell_type": "code",
   "execution_count": 3,
   "id": "8afca2b9",
   "metadata": {},
   "outputs": [
    {
     "name": "stdout",
     "output_type": "stream",
     "text": [
      "[[0 1 2]\n",
      " [3 4 5]\n",
      " [6 7 8]]\n"
     ]
    }
   ],
   "source": [
    "array_2 = np.arange(0,9).reshape(3,3)\n",
    "\n",
    "print(array_2)"
   ]
  },
  {
   "cell_type": "code",
   "execution_count": null,
   "id": "213b958b",
   "metadata": {},
   "outputs": [],
   "source": [
    "4. Find indices of non-zero elements from [1,2,0,0,4,0]"
   ]
  },
  {
   "cell_type": "code",
   "execution_count": 4,
   "id": "810fb529",
   "metadata": {},
   "outputs": [
    {
     "name": "stdout",
     "output_type": "stream",
     "text": [
      "Original array:\n",
      "[1 2 0 0 4 0]\n",
      "\n",
      "Indices of null elements:\n",
      "(array([2, 3, 5], dtype=int64),)\n"
     ]
    }
   ],
   "source": [
    "n_array = np.array([1,2,0,0,4,0])\n",
    "\n",
    "print(\"Original array:\")\n",
    "print(n_array)\n",
    "\n",
    "# np.nonzero()\n",
    "print(\"\\nIndices of null elements:\")\n",
    "\n",
    "res = np.nonzero(n_array == 0)\n",
    "print(res)"
   ]
  },
  {
   "cell_type": "code",
   "execution_count": null,
   "id": "30889957",
   "metadata": {},
   "outputs": [],
   "source": [
    "5. Create a 10x10 array with random values and find the minimum and maximum values."
   ]
  },
  {
   "cell_type": "code",
   "execution_count": 5,
   "id": "47ce630c",
   "metadata": {},
   "outputs": [
    {
     "name": "stdout",
     "output_type": "stream",
     "text": [
      "the original array [[0.42275974 0.67559577 0.59322373 0.86848534 0.67506989 0.69210864\n",
      "  0.62297474 0.01192937 0.35848414 0.51160261]\n",
      " [0.1989405  0.653398   0.63405696 0.7730158  0.03582163 0.98843865\n",
      "  0.47152048 0.49576486 0.81206355 0.7990695 ]\n",
      " [0.35397406 0.79175243 0.613527   0.72603575 0.01029626 0.78526792\n",
      "  0.23221622 0.02840662 0.76238976 0.11565497]\n",
      " [0.45529402 0.93789444 0.66288619 0.37463838 0.38798018 0.26277031\n",
      "  0.3641357  0.95180548 0.28315986 0.89435678]\n",
      " [0.63568356 0.10066355 0.92642959 0.25552108 0.85788268 0.41690212\n",
      "  0.15425377 0.22668826 0.82126518 0.27961993]\n",
      " [0.9481426  0.98019407 0.68570775 0.39012927 0.10332011 0.57049702\n",
      "  0.75410938 0.09287457 0.23291426 0.2176356 ]\n",
      " [0.53061849 0.13334429 0.12760735 0.72379849 0.16394334 0.22429482\n",
      "  0.59961888 0.7500895  0.63953592 0.57519243]\n",
      " [0.42041826 0.11823687 0.59260203 0.44578289 0.01368444 0.27161845\n",
      "  0.12782052 0.84003693 0.16338457 0.01545124]\n",
      " [0.48551722 0.86708148 0.54821887 0.78909907 0.58553384 0.83470965\n",
      "  0.59443793 0.75068866 0.43102311 0.75010001]\n",
      " [0.33421768 0.28503632 0.97660136 0.81906702 0.64569865 0.48986912\n",
      "  0.84925791 0.95636074 0.17782856 0.14300822]]\n",
      "\n",
      "\n",
      "\n",
      "the minimum value of n_array: \n",
      " 0.010296262823397573\n",
      "\n",
      "\n",
      "\n",
      "the maximun value of n_array: \n",
      " 0.9884386476475174\n"
     ]
    }
   ],
   "source": [
    "import numpy as np\n",
    "n_array = np.random.random((10,10))\n",
    "\n",
    "print(\"the original array\",n_array)\n",
    "\n",
    "print(\"\\n\\n\")\n",
    "print(\"the minimum value of n_array: \\n\",n_array.min())\n",
    "      \n",
    "print(\"\\n\\n\")\n",
    "print(\"the maximun value of n_array: \\n\",n_array.max())"
   ]
  },
  {
   "cell_type": "code",
   "execution_count": null,
   "id": "7071d7e9",
   "metadata": {},
   "outputs": [],
   "source": [
    "6. Create a random vector of size 30 and find the mean value."
   ]
  },
  {
   "cell_type": "code",
   "execution_count": 6,
   "id": "c6fd886b",
   "metadata": {},
   "outputs": [
    {
     "name": "stdout",
     "output_type": "stream",
     "text": [
      "the random array is: \n",
      " [0.69773072 0.49257576 0.9889403  0.27813153 0.113439   0.45554602\n",
      " 0.01763001 0.8423864  0.22810676 0.45077164 0.50132833 0.86413366\n",
      " 0.34420875 0.27465991 0.05755868 0.24245486 0.03772599 0.29484247\n",
      " 0.60831166 0.66740981 0.3907142  0.55132541 0.77190228 0.94028538\n",
      " 0.2512461  0.26798097 0.21728258 0.16519711 0.72514962 0.30659641]\n",
      "\n",
      "\n",
      "the mean value of array: \n",
      "  0.4348524114357956\n"
     ]
    }
   ],
   "source": [
    "import numpy as np\n",
    "\n",
    "z = np.random.random(30)\n",
    "print(\"the random array is: \\n\",z)\n",
    "\n",
    "mean_1 = z.mean()\n",
    "print(\"\\n\\nthe mean value of array: \\n \",mean_1)"
   ]
  }
 ],
 "metadata": {
  "kernelspec": {
   "display_name": "Python 3 (ipykernel)",
   "language": "python",
   "name": "python3"
  },
  "language_info": {
   "codemirror_mode": {
    "name": "ipython",
    "version": 3
   },
   "file_extension": ".py",
   "mimetype": "text/x-python",
   "name": "python",
   "nbconvert_exporter": "python",
   "pygments_lexer": "ipython3",
   "version": "3.10.0"
  }
 },
 "nbformat": 4,
 "nbformat_minor": 5
}
